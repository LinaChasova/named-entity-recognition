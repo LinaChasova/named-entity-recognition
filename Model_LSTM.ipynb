{
  "nbformat": 4,
  "nbformat_minor": 0,
  "metadata": {
    "kernelspec": {
      "name": "python3",
      "display_name": "Python 3"
    },
    "language_info": {
      "codemirror_mode": {
        "name": "ipython",
        "version": 3
      },
      "file_extension": ".py",
      "mimetype": "text/x-python",
      "name": "python",
      "nbconvert_exporter": "python",
      "pygments_lexer": "ipython3",
      "version": "3.7.4"
    },
    "latex_envs": {
      "LaTeX_envs_menu_present": true,
      "autoclose": false,
      "autocomplete": true,
      "bibliofile": "biblio.bib",
      "cite_by": "apalike",
      "current_citInitial": 1,
      "eqLabelWithNumbers": true,
      "eqNumInitial": 1,
      "hotkeys": {
        "equation": "Ctrl-E",
        "itemize": "Ctrl-I"
      },
      "labels_anchors": false,
      "latex_user_defs": false,
      "report_style_numbering": false,
      "user_envs_cfg": false
    },
    "toc": {
      "base_numbering": 1,
      "nav_menu": {},
      "number_sections": true,
      "sideBar": true,
      "skip_h1_title": false,
      "title_cell": "Table of Contents",
      "title_sidebar": "Contents",
      "toc_cell": false,
      "toc_position": {},
      "toc_section_display": true,
      "toc_window_display": false
    },
    "varInspector": {
      "cols": {
        "lenName": 16,
        "lenType": 16,
        "lenVar": 40
      },
      "kernels_config": {
        "python": {
          "delete_cmd_postfix": "",
          "delete_cmd_prefix": "del ",
          "library": "var_list.py",
          "varRefreshCmd": "print(var_dic_list())"
        },
        "r": {
          "delete_cmd_postfix": ") ",
          "delete_cmd_prefix": "rm(",
          "library": "var_list.r",
          "varRefreshCmd": "cat(var_dic_list()) "
        }
      },
      "types_to_exclude": [
        "module",
        "function",
        "builtin_function_or_method",
        "instance",
        "_Feature"
      ],
      "window_display": false
    },
    "colab": {
      "name": "Model LSTM.ipynb",
      "provenance": [],
      "collapsed_sections": [
        "Kyq6zQ-mcJiC",
        "7p8bvYcnXeGz"
      ],
      "toc_visible": true,
      "machine_shape": "hm"
    },
    "accelerator": "GPU"
  },
  "cells": [
    {
      "cell_type": "code",
      "metadata": {
        "id": "BAj9c0APbziB",
        "colab_type": "code",
        "colab": {}
      },
      "source": [
        "d=[]\n",
        "while(1):\n",
        "  d.append('1')"
      ],
      "execution_count": 0,
      "outputs": []
    },
    {
      "cell_type": "code",
      "metadata": {
        "id": "gveZkRlUR9rg",
        "colab_type": "code",
        "outputId": "725b54d8-4959-46d0-da90-bf6eb826052c",
        "colab": {
          "base_uri": "https://localhost:8080/",
          "height": 122
        }
      },
      "source": [
        "from google.colab import drive\n",
        "drive.mount('/content/drive', force_remount=True)"
      ],
      "execution_count": 0,
      "outputs": [
        {
          "output_type": "stream",
          "text": [
            "Go to this URL in a browser: https://accounts.google.com/o/oauth2/auth?client_id=947318989803-6bn6qk8qdgf4n4g3pfee6491hc0brc4i.apps.googleusercontent.com&redirect_uri=urn%3aietf%3awg%3aoauth%3a2.0%3aoob&response_type=code&scope=email%20https%3a%2f%2fwww.googleapis.com%2fauth%2fdocs.test%20https%3a%2f%2fwww.googleapis.com%2fauth%2fdrive%20https%3a%2f%2fwww.googleapis.com%2fauth%2fdrive.photos.readonly%20https%3a%2f%2fwww.googleapis.com%2fauth%2fpeopleapi.readonly\n",
            "\n",
            "Enter your authorization code:\n",
            "··········\n",
            "Mounted at /content/drive\n"
          ],
          "name": "stdout"
        }
      ]
    },
    {
      "cell_type": "code",
      "metadata": {
        "id": "GJxvjkqoSiyA",
        "colab_type": "code",
        "colab": {}
      },
      "source": [
        "# path to the embeddings file\n",
        "embed_path = '/content/drive/My Drive/cc.ru.300.bin'"
      ],
      "execution_count": 0,
      "outputs": []
    },
    {
      "cell_type": "markdown",
      "metadata": {
        "id": "_sqVzESG68Cu",
        "colab_type": "text"
      },
      "source": [
        "# Word embeddings\n",
        "\n",
        "## Fasttext"
      ]
    },
    {
      "cell_type": "code",
      "metadata": {
        "id": "AGS9JBht68Cy",
        "colab_type": "code",
        "outputId": "e9ce2f43-d158-41fe-e5a1-c8670e6fe9fc",
        "colab": {
          "base_uri": "https://localhost:8080/",
          "height": 275
        }
      },
      "source": [
        "!pip install fasttext\n",
        "\n",
        "import fasttext.util\n",
        "import fasttext\n",
        "\n",
        "ft = fasttext.load_model(embed_path)"
      ],
      "execution_count": 0,
      "outputs": [
        {
          "output_type": "stream",
          "text": [
            "Collecting fasttext\n",
            "\u001b[?25l  Downloading https://files.pythonhosted.org/packages/10/61/2e01f1397ec533756c1d893c22d9d5ed3fce3a6e4af1976e0d86bb13ea97/fasttext-0.9.1.tar.gz (57kB)\n",
            "\r\u001b[K     |█████▊                          | 10kB 17.4MB/s eta 0:00:01\r\u001b[K     |███████████▍                    | 20kB 4.5MB/s eta 0:00:01\r\u001b[K     |█████████████████               | 30kB 5.2MB/s eta 0:00:01\r\u001b[K     |██████████████████████▊         | 40kB 5.9MB/s eta 0:00:01\r\u001b[K     |████████████████████████████▍   | 51kB 5.0MB/s eta 0:00:01\r\u001b[K     |████████████████████████████████| 61kB 3.7MB/s \n",
            "\u001b[?25hRequirement already satisfied: pybind11>=2.2 in /usr/local/lib/python3.6/dist-packages (from fasttext) (2.5.0)\n",
            "Requirement already satisfied: setuptools>=0.7.0 in /usr/local/lib/python3.6/dist-packages (from fasttext) (46.1.3)\n",
            "Requirement already satisfied: numpy in /usr/local/lib/python3.6/dist-packages (from fasttext) (1.18.2)\n",
            "Building wheels for collected packages: fasttext\n",
            "  Building wheel for fasttext (setup.py) ... \u001b[?25l\u001b[?25hdone\n",
            "  Created wheel for fasttext: filename=fasttext-0.9.1-cp36-cp36m-linux_x86_64.whl size=2385840 sha256=1c94502a624822825742661d0a0a300847b57215ddc1d34c0f1bcfe49f8c4795\n",
            "  Stored in directory: /root/.cache/pip/wheels/9f/f0/04/caa82c912aee89ce76358ff954f3f0729b7577c8ff23a292e3\n",
            "Successfully built fasttext\n",
            "Installing collected packages: fasttext\n",
            "Successfully installed fasttext-0.9.1\n"
          ],
          "name": "stdout"
        },
        {
          "output_type": "stream",
          "text": [
            "\n"
          ],
          "name": "stderr"
        }
      ]
    },
    {
      "cell_type": "markdown",
      "metadata": {
        "id": "iigHQlBRUv0R",
        "colab_type": "text"
      },
      "source": [
        "# Model"
      ]
    },
    {
      "cell_type": "code",
      "metadata": {
        "id": "P9wyutRqUyx2",
        "colab_type": "code",
        "colab": {}
      },
      "source": [
        "import os\n",
        "import math\n",
        "import time\n",
        "import torch\n",
        "import torch.nn as nn\n",
        "import torch.nn.functional as F\n",
        "import torch.optim as optim\n",
        "import pandas as pd\n",
        "import numpy as np\n",
        "import shutil\n",
        "\n",
        "from datetime import datetime\n",
        "from torch.utils.data import Dataset, DataLoader\n",
        "from sklearn.metrics import f1_score"
      ],
      "execution_count": 0,
      "outputs": []
    },
    {
      "cell_type": "code",
      "metadata": {
        "id": "HnNtU6WzRg_9",
        "colab_type": "code",
        "colab": {}
      },
      "source": [
        "use_cuda = True\n",
        "if use_cuda and torch.cuda.is_available():\n",
        "    torch.device('cuda')"
      ],
      "execution_count": 0,
      "outputs": []
    },
    {
      "cell_type": "code",
      "metadata": {
        "id": "rykt3cg-duH7",
        "colab_type": "code",
        "colab": {}
      },
      "source": [
        "# constants\n",
        "EMBED_DIM = 300\n",
        "BATCH_SIZE = 512\n",
        "EPOCHS = 50\n",
        "PAD_WORD = '`'\n",
        "PAD_TAG = -1"
      ],
      "execution_count": 0,
      "outputs": []
    },
    {
      "cell_type": "code",
      "metadata": {
        "id": "Hs8M_ehwlCfH",
        "colab_type": "code",
        "colab": {}
      },
      "source": [
        "def save_model(state, is_best, checkpoint_dir, best_model_dir):\n",
        "    f_path = 'models/' + checkpoint_dir + '_model.pt'\n",
        "    if not os.path.exists('models'):\n",
        "        os.makedirs('models')\n",
        "\n",
        "    torch.save(state, f_path)\n",
        "    if is_best:\n",
        "        best_fpath = best_model_dir + '/best_model.pt'\n",
        "        if not os.path.exists(best_model_dir):\n",
        "            os.makedirs(best_model_dir)\n",
        "\n",
        "        shutil.copyfile(f_path, best_fpath)\n",
        "\n",
        "\n",
        "def load_model(checkpoint_fpath, model, optimizer):\n",
        "    checkpoint = torch.load(checkpoint_fpath)\n",
        "    model.load_state_dict(checkpoint['state_dict'])\n",
        "    optimizer.load_state_dict(checkpoint['optimizer'])\n",
        "    return model, optimizer, checkpoint['epoch']"
      ],
      "execution_count": 0,
      "outputs": []
    },
    {
      "cell_type": "code",
      "metadata": {
        "id": "FKIaXQOZjza1",
        "colab_type": "code",
        "colab": {}
      },
      "source": [
        "class Corpus(Dataset):\n",
        "    def __init__(self, word_to_ix, tag_to_ix, data):\n",
        "        self.word_to_ix = word_to_ix\n",
        "        self.tag_to_ix = tag_to_ix\n",
        "        self.data = data\n",
        "\n",
        "    def __len__(self):\n",
        "        return len(self.data)\n",
        "\n",
        "    def __getitem__(self, idx):\n",
        "        sentence, tags = self.data[idx]\n",
        "        return ' '.join(sentence), ' '.join(tags)"
      ],
      "execution_count": 0,
      "outputs": []
    },
    {
      "cell_type": "code",
      "metadata": {
        "id": "9XcBL_XzkMzX",
        "colab_type": "code",
        "colab": {}
      },
      "source": [
        "class Event_tagger(nn.Module):\n",
        "    def __init__(self,\n",
        "                 word_to_ix,\n",
        "                 tag_to_ix,\n",
        "                 ix_to_tag,\n",
        "                 weights_matrix,\n",
        "                 batch_size,\n",
        "                 word_embed_dim=300,\n",
        "                 bidirectional=False,\n",
        "                 lstm_num_layers=2,\n",
        "                 dropout=.5):\n",
        "        '''\n",
        "            initialize models\n",
        "            batch_size      - size of batches for traininig\n",
        "            word_embed_dim  - dimension of word embeddings\n",
        "            lstm_num_layers - number of LSTM layers\n",
        "            dropout         - rate for dropout layer\n",
        "        '''\n",
        "        super(Event_tagger, self).__init__()\n",
        "\n",
        "        # dictionaries\n",
        "        self.word_to_ix = word_to_ix\n",
        "        self.tag_to_ix = tag_to_ix\n",
        "        self.ix_to_tag = ix_to_tag\n",
        "\n",
        "        # parameters\n",
        "        self.batch_size = batch_size\n",
        "        self.word_embed_dim = word_embed_dim\n",
        "        self.lstm_hidden_dim = self.word_embed_dim\n",
        "        self.lstm_num_layers = lstm_num_layers\n",
        "        self.dropout = dropout\n",
        "\n",
        "        self.num_directions = 2 if bidirectional else 1\n",
        "\n",
        "        self.word_embeds, num_embeds = create_embed_layer(weights_matrix, True)\n",
        "        self.lstm_hidden_embeds = self.init_hidden_embeddings(self.batch_size)\n",
        "\n",
        "        self.lstm = nn.LSTM(self.word_embed_dim,\n",
        "                            self.lstm_hidden_dim,\n",
        "                            dropout=self.dropout,\n",
        "                            num_layers=self.lstm_num_layers,\n",
        "                            batch_first=True)\n",
        "        self.dense = nn.Linear(self.lstm_hidden_dim * self.num_directions,\n",
        "                               len(self.tag_to_ix))\n",
        "\n",
        "    def init_hidden_embeddings(self, batch_size):\n",
        "        '''\n",
        "            initialize hidden embeddings as zeros\n",
        "        '''\n",
        "        return (torch.zeros(self.lstm_num_layers * self.num_directions,\n",
        "                            batch_size, self.lstm_hidden_dim),\n",
        "                torch.zeros(self.lstm_num_layers * self.num_directions,\n",
        "                            batch_size, self.lstm_hidden_dim))\n",
        "        \n",
        "    def forward(self, words_batch):\n",
        "        '''\n",
        "            words_batch - contains indices of words in current batch with shape\n",
        "                        (batch_size, num_words_in_sentence)\n",
        "\n",
        "            creates word level word embeddings from words_batch\n",
        "\n",
        "            runs Bi-directional LSTM over input word representation to get\n",
        "            final word representation which is fed to linear layer and softmax\n",
        "            activation function to generate probability distribution for event\n",
        "            tag set\n",
        "        '''\n",
        "        # create word-level word embeddings\n",
        "        word_embed_word_level = words_batch.view(-1)\n",
        "        word_embed_word_level = self.word_embeds(word_embed_word_level)\n",
        "        batch_sent_embed = word_embed_word_level.view(words_batch.shape[0], -1,\n",
        "                                                 word_embed_word_level.shape[-1])\n",
        "\n",
        "        # create final word representation from LSTM\n",
        "        lstm_out, self.lstm_hidden_embeds = self.lstm(batch_sent_embed,\n",
        "                                                      self.lstm_hidden_embeds)\n",
        "\n",
        "        # get probabilities for event tag\n",
        "        tag_space = self.dense(lstm_out)\n",
        "        tag_scores = F.log_softmax(tag_space, dim=2)\n",
        "        return tag_scores"
      ],
      "execution_count": 0,
      "outputs": []
    },
    {
      "cell_type": "code",
      "metadata": {
        "id": "9j9gMl5bXpcb",
        "colab_type": "code",
        "colab": {}
      },
      "source": [
        "def create_vocabulary(df):\n",
        "    '''\n",
        "        creates vocabulary from dataset\n",
        "    '''\n",
        "    all_words = list(set(list(df.word)))\n",
        "    word_to_ix = {all_words[ix]:ix for ix in range(len(all_words))}\n",
        "\n",
        "    all_tags = list(set(list(df.type)))\n",
        "    tag_to_ix = {all_tags[ix]:ix for ix in range(len(all_tags))}\n",
        "    ix_to_tag = dict([(value, key) for key, value in tag_to_ix.items()])\n",
        "\n",
        "    word_to_ix[PAD_WORD] = len(word_to_ix)\n",
        "    data = create_data(df)\n",
        "\n",
        "    return word_to_ix, (tag_to_ix, ix_to_tag), data"
      ],
      "execution_count": 0,
      "outputs": []
    },
    {
      "cell_type": "code",
      "metadata": {
        "id": "-97lv_qfdTSh",
        "colab_type": "code",
        "colab": {}
      },
      "source": [
        "def create_data(df):\n",
        "    sentences = []\n",
        "\n",
        "    doc_ids = list(set(df.doc))\n",
        "    for doc_id in doc_ids:\n",
        "        sent_ids = list(set(df[df.doc == doc_id].sentence))\n",
        "        df_docs = df[df.doc == doc_id]\n",
        "        for sent_id in sent_ids:\n",
        "            df_sents = df_docs[df_docs.sentence == sent_id]\n",
        "\n",
        "            words = [word for word in df_sents.word]\n",
        "            tags = [tag for tag in df_sents.type]\n",
        "\n",
        "            sentences.append((words, tags))\n",
        "    return sentences"
      ],
      "execution_count": 0,
      "outputs": []
    },
    {
      "cell_type": "code",
      "metadata": {
        "id": "d4t0xHNMdgqH",
        "colab_type": "code",
        "colab": {}
      },
      "source": [
        "def create_embed_weights(target_vocab, ft):\n",
        "    '''\n",
        "        For each word in dataset’s vocabulary, we check if it is vocabulary.\n",
        "        If it is, we load its pre-trained word vector.\n",
        "        Otherwise, we initialize a random vector.\n",
        "    '''\n",
        "    matrix_len = len(target_vocab)\n",
        "    weights_matrix = np.zeros((matrix_len, EMBED_DIM))\n",
        "    words_found = 0\n",
        "\n",
        "    for word, ix in target_vocab.items():\n",
        "        try:\n",
        "            weights_matrix[ix] = ft.get_word_vector(word)\n",
        "            words_found += 1\n",
        "        except KeyError:\n",
        "            weights_matrix[ix] = np.random.normal(scale=0.6, size=(EMBED_DIM, ))\n",
        "\n",
        "    return torch.as_tensor(weights_matrix)"
      ],
      "execution_count": 0,
      "outputs": []
    },
    {
      "cell_type": "code",
      "metadata": {
        "id": "ZIN54TXCQ5Gt",
        "colab_type": "code",
        "colab": {}
      },
      "source": [
        "def create_embed_layer(weights_matrix, non_trainable=True):\n",
        "    '''\n",
        "        custom embedding layer\n",
        "    '''\n",
        "    num_embeds, embed_dim = weights_matrix.size()\n",
        "    embed_layer = nn.Embedding(num_embeds, embed_dim)\n",
        "    embed_layer.load_state_dict({'weight': weights_matrix})\n",
        "    if non_trainable:\n",
        "        embed_layer.weight.requires_grad = False\n",
        "\n",
        "    return embed_layer, num_embeds"
      ],
      "execution_count": 0,
      "outputs": []
    },
    {
      "cell_type": "code",
      "metadata": {
        "id": "9N03eD_bp0ZL",
        "colab_type": "code",
        "colab": {}
      },
      "source": [
        "def get_indices(sentence, word_to_ix):\n",
        "    '''\n",
        "        retrieves indices of sentence from word vocabulary\n",
        "    '''\n",
        "    word_indices = []\n",
        "    for token in sentence:\n",
        "        word_indices.append(word_to_ix[token])\n",
        "    return word_indices\n",
        "\n",
        "\n",
        "def get_batch(batch, word_to_ix, tag_to_ix):\n",
        "    '''\n",
        "        creates batches of indices for words and tags\n",
        "        finds maximum length of sentence for padding\n",
        "    '''\n",
        "    words_batch, tags_batch = [], []\n",
        "    max_sent_len = 0\n",
        "\n",
        "    sentences_batch, tag_batch = batch\n",
        "    for i in range(len(sentences_batch)):\n",
        "        sentence = sentences_batch[i].split(' ')\n",
        "        tags = tag_batch[i].split()\n",
        "\n",
        "        word_indices = get_indices(sentence, word_to_ix)\n",
        "        tag_indices = [tag_to_ix[tag] for tag in tags]\n",
        "\n",
        "        words_batch.append(word_indices)\n",
        "        tags_batch.append(tag_indices)\n",
        "\n",
        "        max_sent_len = max(max_sent_len, len(sentence))\n",
        "\n",
        "    return (words_batch, tags_batch), max_sent_len"
      ],
      "execution_count": 0,
      "outputs": []
    },
    {
      "cell_type": "code",
      "metadata": {
        "id": "d688kMW14d5g",
        "colab_type": "code",
        "colab": {}
      },
      "source": [
        "def pad_indices(indices, word_to_ix, length):\n",
        "    '''\n",
        "        performs padding of word and tag batches\n",
        "\n",
        "        indices:\n",
        "                indices[0] - word_indices\n",
        "                indices[1] - tag_indices\n",
        "    '''\n",
        "    for i in range(len(indices[0])):\n",
        "        for j in range(len(indices[0][i]), length):\n",
        "            indices[0][i].append(word_to_ix[PAD_WORD])\n",
        "            indices[1][i].append(PAD_TAG)\n",
        "        indices[0][i] = torch.tensor(indices[0][i], dtype=torch.long)\n",
        "        indices[1][i] = torch.tensor(indices[1][i], dtype=torch.long)\n",
        "\n",
        "    return (torch.stack(indices[0]), torch.stack(indices[1]))"
      ],
      "execution_count": 0,
      "outputs": []
    },
    {
      "cell_type": "code",
      "metadata": {
        "id": "a2vJEP38Zlp-",
        "colab_type": "code",
        "colab": {}
      },
      "source": [
        "def train_model(df, ft, doc_id=0, continue_training=False):\n",
        "    start = datetime.now()\n",
        "    # reads vocabulary and creates corpus\n",
        "    # :tag_dics: - (tag_to_ix, ix_to_tag)\n",
        "    # :data: - [([token, token, ...], [id, id, ...])]\n",
        "    word_to_ix, tag_dicts, data = create_vocabulary(df)    \n",
        "\n",
        "    # initialize wight embeddings from fasttext\n",
        "    print('create weight matrix')\n",
        "    weights_matrix = create_embed_weights(word_to_ix, ft)\n",
        "    # initialize model\n",
        "    # layers - Embeddings -> Bi-LSTM -> Dense (softmax)\n",
        "    model = Event_tagger(word_to_ix, tag_dicts[0], tag_dicts[1],\n",
        "                         weights_matrix, BATCH_SIZE)\n",
        "\n",
        "    # loss function and optimizer\n",
        "    loss_function = nn.CrossEntropyLoss(ignore_index=PAD_TAG)\n",
        "    optimizer = optim.Adam(model.parameters())\n",
        "\n",
        "    if continue_training:\n",
        "        model_path = '/content/drive/My Drive/' + str(doc_id - 1) + '_model-2.pt'\n",
        "        model, optimizer, start_epoch = load_model(model_path, model, optimizer)\n",
        "\n",
        "    \n",
        "    print('start...')\n",
        "    # helping function to crate DataLoader for creating batches\n",
        "    corpus = Corpus(word_to_ix, tag_dicts[0], data)\n",
        "    # create DataLoader object and train model\n",
        "    dataloader = DataLoader(dataset=corpus,\n",
        "                            batch_size=BATCH_SIZE,\n",
        "                            shuffle=False,\n",
        "                            num_workers=8)\n",
        "    for epoch in range(EPOCHS):\n",
        "        for batch_index, batch in enumerate(dataloader):\n",
        "            # Clear gradients and hidden layer\n",
        "            model.zero_grad()\n",
        "            model.lstm_hidden_embeds = model.init_hidden_embeddings(\n",
        "                len(batch[0]))\n",
        "\n",
        "            # batch_indices - (words_batch, tags_batch)\n",
        "            batch_indices, length = get_batch(batch, word_to_ix, tag_dicts[0])\n",
        "            batch_indices = pad_indices(batch_indices, word_to_ix, length)\n",
        "\n",
        "            tag_scores_batch = model(batch_indices[0])\n",
        "            target = batch_indices[1].view(-1)\n",
        "            output = tag_scores_batch.view(-1, tag_scores_batch.size()[-1])\n",
        "\n",
        "            loss = loss_function(output, target)\n",
        "            loss.backward()\n",
        "            optimizer.step()\n",
        "\n",
        "            # printing part\n",
        "            if batch_index == 0 or (batch_index + 1) % 10 == 0 or batch_index + 1 == math.ceil(\n",
        "                    len(data) / BATCH_SIZE):\n",
        "                predicted_tags = []\n",
        "                y_true = []\n",
        "                for i in range(output.size()[0]):\n",
        "                    if target[i].item() == PAD_TAG:\n",
        "                        continue\n",
        "                    # calculate accuracy every 1000 batches\n",
        "                    # and on the last batch\n",
        "                    _, predicted_ix = torch.max(output[i], 0)\n",
        "                    predicted_tags.append(predicted_ix.item())\n",
        "                    y_true.append(target[i].item())\n",
        "                score = f1_score(y_true, predicted_tags, average='weighted')\n",
        "                print(\n",
        "                    \"Epoch {}/{} | Batch {}/{} | Loss {:.3f} | F1 score {:.3f}\"\n",
        "                    .format(epoch + 1, EPOCHS, batch_index + 1,\n",
        "                            math.ceil(len(data) / BATCH_SIZE),\n",
        "                            loss.data.item(), score))\n",
        "    checkpoint = {\n",
        "        'epoch': doc_id * epoch + 1,\n",
        "        'state_dict': model.state_dict(),\n",
        "        'optimizer': optimizer.state_dict()\n",
        "    }\n",
        "    save_model(checkpoint, False, str(doc_id), 'best_model')\n",
        "    print('model saved')\n",
        "    doc_id += 1\n",
        "    end = datetime.now()\n",
        "    print('Finished... {}'.format(end - start))\n",
        "\n",
        "    return model, doc_id, word_to_ix, tag_dicts[0], tag_dicts[1]"
      ],
      "execution_count": 0,
      "outputs": []
    },
    {
      "cell_type": "code",
      "metadata": {
        "id": "Veixlf10-1lu",
        "colab_type": "code",
        "colab": {}
      },
      "source": [
        "df = pd.read_csv('/content/drive/My Drive/output.csv')"
      ],
      "execution_count": 0,
      "outputs": []
    },
    {
      "cell_type": "markdown",
      "metadata": {
        "id": "nC4rdN4hTa5j",
        "colab_type": "text"
      },
      "source": [
        "# Test"
      ]
    },
    {
      "cell_type": "code",
      "metadata": {
        "id": "9Do3PuCCTdB4",
        "colab_type": "code",
        "colab": {}
      },
      "source": [
        "def test_train_split(df, ratio=.2):\n",
        "    max_doc = df.iloc[-1].doc\n",
        "    # :ratio: - percentage of data left to testing\n",
        "    split_doc = max_doc * (1 - ratio)\n",
        "\n",
        "    df_train = df[df.doc <= split_doc]\n",
        "    df_test = df[df.doc > split_doc]\n",
        "\n",
        "    return df_train, df_test"
      ],
      "execution_count": 0,
      "outputs": []
    },
    {
      "cell_type": "code",
      "metadata": {
        "id": "1mZCEb2EXW5R",
        "colab_type": "code",
        "colab": {}
      },
      "source": [
        "def test_sentences(df, word_to_ix, tag_to_ix, ix_to_tag, doc_id):\n",
        "    batch_size = 1\n",
        "\n",
        "    print('create weight matrix')\n",
        "    weights_matrix = create_embed_weights(word_to_ix, ft)\n",
        "    model = Event_tagger(word_to_ix, tag_to_ix, ix_to_tag,\n",
        "                         weights_matrix, BATCH_SIZE)\n",
        "\n",
        "    # loss function and optimizer\n",
        "    # loss_function = nn.CrossEntropyLoss(ignore_index=PAD_TAG)\n",
        "    optimizer = optim.Adam(model.parameters())\n",
        "\n",
        "    # load model\n",
        "    model_path = 'models/' + str(doc_id - 2) + '_model.pt'\n",
        "    model, optimizer, start_epoch = load_model(model_path, model, optimizer)\n",
        "    model.lstm_hidden_embeds = model.init_hidden_embeddings(batch_size)\n",
        "    model.lstm.flatten_parameters()\n",
        "\n",
        "    # load test dataset\n",
        "    data = create_data(df)\n",
        "\n",
        "    while doc_id < max(data.keys()):\n",
        "        word_indices = sentences_to_indices(data[doc_id], word_to_ix)\n",
        "\n",
        "        # run test dataset through model\n",
        "        predicted_tags = []\n",
        "        y_true = []\n",
        "        for i in range(len(word_indices)):\n",
        "            tag_scores = model(torch.stack([word_indices[i]]))\n",
        "            out_probs = torch.squeeze(tag_scores)\n",
        "            predicted_tags = []\n",
        "            for pset in out_probs:\n",
        "                _, predicted_ix = torch.max(pset, 0)\n",
        "                predicted_tags.append(predicted_ix.item())\n",
        "            target = [tag_to_ix[tag] for tag in data[doc_id][i][1]]\n",
        "            y_true.extend(target)\n",
        "        score = f1_score(y_true, predicted_tags)\n",
        "        print(\"Testing... Doc id {}/{} | F1 score {:.3f}\".format(doc_id,\n",
        "                                                                 max(data.keys()),\n",
        "                                                                 score))"
      ],
      "execution_count": 0,
      "outputs": []
    },
    {
      "cell_type": "markdown",
      "metadata": {
        "id": "Kyq6zQ-mcJiC",
        "colab_type": "text"
      },
      "source": [
        "# Check"
      ]
    },
    {
      "cell_type": "code",
      "metadata": {
        "id": "JzJRELr4cIxq",
        "colab_type": "code",
        "colab": {}
      },
      "source": [
        "def sentences_to_indices(sentences, word_to_ix):\n",
        "    '''\n",
        "        sentences - [[token, ...], [token, ...], ...]\n",
        "        converts sentences to word indices\n",
        "    '''\n",
        "    all_word_indices = []\n",
        "    for sent in sentences:\n",
        "        word_indices = get_indices_train(sent[0], word_to_ix)\n",
        "        all_word_indices.append(word_indices)\n",
        "    return all_word_indices"
      ],
      "execution_count": 0,
      "outputs": []
    },
    {
      "cell_type": "code",
      "metadata": {
        "id": "3LMoj6IIcbQ5",
        "colab_type": "code",
        "colab": {}
      },
      "source": [
        "def get_indices_train(sentence, word_to_ix):\n",
        "    '''\n",
        "        retrieves indices of sentence from helpping dictionaries,\n",
        "        maximum length of word in sentence\n",
        "    '''\n",
        "    word_indices = []\n",
        "    for token in sentence:\n",
        "        # read word index from dictionary\n",
        "        # if word is not in the dictionary treat as unknown word\n",
        "        tok = token if token in word_to_ix else PAD_WORD\n",
        "        word_indices.append(word_to_ix[tok])\n",
        "\n",
        "    return torch.tensor(word_indices, dtype=torch.long)"
      ],
      "execution_count": 0,
      "outputs": []
    },
    {
      "cell_type": "code",
      "metadata": {
        "id": "WR3jWvUTc2Ie",
        "colab_type": "code",
        "colab": {}
      },
      "source": [
        "def add_tags_to_tokens(tokens, tags):\n",
        "    '''\n",
        "        tokens - [token, token, ...]\n",
        "        tags   - [tag, tag, ...]\n",
        "\n",
        "        concatenate tokens and tags into token/tag format as was in\n",
        "        original corpus\n",
        "    '''\n",
        "    tokens = [tokens[0][i] + '/' + tags[i] + '/' + tokens[1][i] for i in range(len(tokens[0]))]\n",
        "    return ' '.join(tokens)"
      ],
      "execution_count": 0,
      "outputs": []
    },
    {
      "cell_type": "code",
      "metadata": {
        "id": "-EuhW-T4dXJW",
        "colab_type": "code",
        "colab": {}
      },
      "source": [
        "def save_answer(out_file, output):\n",
        "    '''\n",
        "        output - [string, string, ...]\n",
        "        writes output to the file\n",
        "    '''\n",
        "    with open(out_file, 'w') as f:\n",
        "        for item in output:\n",
        "            f.write(\"%s\\n\" % item)"
      ],
      "execution_count": 0,
      "outputs": []
    },
    {
      "cell_type": "code",
      "metadata": {
        "id": "Pq_Fh5Q1daZ7",
        "colab_type": "code",
        "colab": {}
      },
      "source": [
        "def tag_sentence(df, word_to_ix, tag_to_ix, ix_to_tag, doc_id):\n",
        "    batch_size = 1\n",
        "\n",
        "    print('create weight matrix')\n",
        "    weights_matrix = create_embed_weights(word_to_ix, ft)\n",
        "    model = Event_tagger(word_to_ix, tag_to_ix, ix_to_tag,\n",
        "                         weights_matrix, BATCH_SIZE)\n",
        "\n",
        "    # loss function and optimizer\n",
        "    # loss_function = nn.CrossEntropyLoss(ignore_index=PAD_TAG)\n",
        "    optimizer = optim.Adam(model.parameters())\n",
        "\n",
        "    # load model\n",
        "    model_path = str(doc_id) + '/model.pt'\n",
        "    model, optimizer, start_epoch = load_model(model_path, model, optimizer)\n",
        "    model.lstm_hidden_embeds = model.init_hidden_embeddings(batch_size)\n",
        "    model.lstm.flatten_parameters()\n",
        "\n",
        "    # load test dataset\n",
        "    data = create_data(df)\n",
        "\n",
        "    word_indices = sentences_to_indices(data[doc_id], word_to_ix)\n",
        "\n",
        "    # run test dataset through model\n",
        "    output = []\n",
        "    for i in range(len(word_indices)):\n",
        "        tag_scores = model(torch.stack([word_indices[i]]))\n",
        "        out_probs = torch.squeeze(tag_scores)\n",
        "        predicted_tags = []\n",
        "        for pset in out_probs:\n",
        "            _, predicted_ix = torch.max(pset, 0)\n",
        "            predicted_tags.append(ix_to_tag[predicted_ix.item()])\n",
        "        output.append(add_tags_to_tokens(data[doc_id][i], predicted_tags))\n",
        "\n",
        "    # Save answer\n",
        "    out_file = str(doc_id) + '.txt'\n",
        "    save_answer(out_file, output)"
      ],
      "execution_count": 0,
      "outputs": []
    },
    {
      "cell_type": "markdown",
      "metadata": {
        "id": "MStrNqZpTSfV",
        "colab_type": "text"
      },
      "source": [
        "# Main"
      ]
    },
    {
      "cell_type": "code",
      "metadata": {
        "id": "J1v0opq-ZgEw",
        "colab_type": "code",
        "outputId": "d0bf7f8d-aadf-48f1-e8e9-a85a4209e104",
        "colab": {
          "base_uri": "https://localhost:8080/",
          "height": 1000
        }
      },
      "source": [
        "df_train, df_test = test_train_split(df)\n",
        "\n",
        "model, doc_id, word_to_ix, tag_to_ix, ix_to_tag = train_model(df_train, ft)\n",
        "# test_sentences(df_test, word_to_ix, tag_to_ix, ix_to_tag, doc_id + 1)\n",
        "\n",
        "# print(doc_id)\n",
        "# tag_sentence(df, word_to_ix, tag_to_ix, ix_to_tag, doc_id)"
      ],
      "execution_count": 0,
      "outputs": [
        {
          "output_type": "stream",
          "text": [
            "create weight matrix\n",
            "start...\n",
            "Epoch 1/50 | Batch 1/32 | Loss 3.937 | F1 score 0.001\n",
            "Epoch 1/50 | Batch 10/32 | Loss 2.121 | F1 score 0.541\n",
            "Epoch 1/50 | Batch 20/32 | Loss 1.481 | F1 score 0.611\n",
            "Epoch 1/50 | Batch 30/32 | Loss 1.717 | F1 score 0.514\n",
            "Epoch 1/50 | Batch 32/32 | Loss 1.425 | F1 score 0.622\n",
            "Epoch 2/50 | Batch 1/32 | Loss 1.702 | F1 score 0.516\n",
            "Epoch 2/50 | Batch 10/32 | Loss 1.536 | F1 score 0.541\n",
            "Epoch 2/50 | Batch 20/32 | Loss 1.321 | F1 score 0.611\n",
            "Epoch 2/50 | Batch 30/32 | Loss 1.626 | F1 score 0.514\n",
            "Epoch 2/50 | Batch 32/32 | Loss 1.338 | F1 score 0.622\n",
            "Epoch 3/50 | Batch 1/32 | Loss 1.644 | F1 score 0.516\n",
            "Epoch 3/50 | Batch 10/32 | Loss 1.476 | F1 score 0.541\n",
            "Epoch 3/50 | Batch 20/32 | Loss 1.271 | F1 score 0.611\n",
            "Epoch 3/50 | Batch 30/32 | Loss 1.566 | F1 score 0.514\n",
            "Epoch 3/50 | Batch 32/32 | Loss 1.309 | F1 score 0.622\n",
            "Epoch 4/50 | Batch 1/32 | Loss 1.589 | F1 score 0.516\n",
            "Epoch 4/50 | Batch 10/32 | Loss 1.389 | F1 score 0.541\n",
            "Epoch 4/50 | Batch 20/32 | Loss 1.166 | F1 score 0.611\n",
            "Epoch 4/50 | Batch 30/32 | Loss 1.461 | F1 score 0.514\n",
            "Epoch 4/50 | Batch 32/32 | Loss 1.160 | F1 score 0.622\n",
            "Epoch 5/50 | Batch 1/32 | Loss 1.482 | F1 score 0.516\n",
            "Epoch 5/50 | Batch 10/32 | Loss 1.282 | F1 score 0.542\n",
            "Epoch 5/50 | Batch 20/32 | Loss 1.095 | F1 score 0.614\n",
            "Epoch 5/50 | Batch 30/32 | Loss 1.390 | F1 score 0.524\n",
            "Epoch 5/50 | Batch 32/32 | Loss 1.100 | F1 score 0.635\n",
            "Epoch 6/50 | Batch 1/32 | Loss 1.391 | F1 score 0.529\n",
            "Epoch 6/50 | Batch 10/32 | Loss 1.219 | F1 score 0.566\n",
            "Epoch 6/50 | Batch 20/32 | Loss 1.038 | F1 score 0.623\n",
            "Epoch 6/50 | Batch 30/32 | Loss 1.334 | F1 score 0.547\n",
            "Epoch 6/50 | Batch 32/32 | Loss 1.044 | F1 score 0.643\n",
            "Epoch 7/50 | Batch 1/32 | Loss 1.324 | F1 score 0.544\n",
            "Epoch 7/50 | Batch 10/32 | Loss 1.151 | F1 score 0.588\n",
            "Epoch 7/50 | Batch 20/32 | Loss 0.973 | F1 score 0.651\n",
            "Epoch 7/50 | Batch 30/32 | Loss 1.258 | F1 score 0.578\n",
            "Epoch 7/50 | Batch 32/32 | Loss 0.974 | F1 score 0.665\n",
            "Epoch 8/50 | Batch 1/32 | Loss 1.249 | F1 score 0.566\n",
            "Epoch 8/50 | Batch 10/32 | Loss 1.056 | F1 score 0.620\n",
            "Epoch 8/50 | Batch 20/32 | Loss 0.908 | F1 score 0.678\n",
            "Epoch 8/50 | Batch 30/32 | Loss 1.200 | F1 score 0.595\n",
            "Epoch 8/50 | Batch 32/32 | Loss 0.915 | F1 score 0.690\n",
            "Epoch 9/50 | Batch 1/32 | Loss 1.184 | F1 score 0.593\n",
            "Epoch 9/50 | Batch 10/32 | Loss 0.998 | F1 score 0.656\n",
            "Epoch 9/50 | Batch 20/32 | Loss 0.851 | F1 score 0.693\n",
            "Epoch 9/50 | Batch 30/32 | Loss 1.154 | F1 score 0.622\n",
            "Epoch 9/50 | Batch 32/32 | Loss 0.867 | F1 score 0.709\n",
            "Epoch 10/50 | Batch 1/32 | Loss 1.134 | F1 score 0.605\n",
            "Epoch 10/50 | Batch 10/32 | Loss 0.941 | F1 score 0.684\n",
            "Epoch 10/50 | Batch 20/32 | Loss 0.810 | F1 score 0.710\n",
            "Epoch 10/50 | Batch 30/32 | Loss 1.118 | F1 score 0.642\n",
            "Epoch 10/50 | Batch 32/32 | Loss 0.841 | F1 score 0.736\n",
            "Epoch 11/50 | Batch 1/32 | Loss 1.099 | F1 score 0.620\n",
            "Epoch 11/50 | Batch 10/32 | Loss 0.897 | F1 score 0.690\n",
            "Epoch 11/50 | Batch 20/32 | Loss 0.774 | F1 score 0.740\n",
            "Epoch 11/50 | Batch 30/32 | Loss 1.076 | F1 score 0.659\n",
            "Epoch 11/50 | Batch 32/32 | Loss 0.812 | F1 score 0.750\n",
            "Epoch 12/50 | Batch 1/32 | Loss 1.045 | F1 score 0.644\n",
            "Epoch 12/50 | Batch 10/32 | Loss 0.858 | F1 score 0.704\n",
            "Epoch 12/50 | Batch 20/32 | Loss 0.749 | F1 score 0.750\n",
            "Epoch 12/50 | Batch 30/32 | Loss 1.047 | F1 score 0.675\n",
            "Epoch 12/50 | Batch 32/32 | Loss 0.782 | F1 score 0.754\n",
            "Epoch 13/50 | Batch 1/32 | Loss 1.004 | F1 score 0.654\n",
            "Epoch 13/50 | Batch 10/32 | Loss 0.829 | F1 score 0.716\n",
            "Epoch 13/50 | Batch 20/32 | Loss 0.729 | F1 score 0.759\n",
            "Epoch 13/50 | Batch 30/32 | Loss 1.011 | F1 score 0.685\n",
            "Epoch 13/50 | Batch 32/32 | Loss 0.765 | F1 score 0.762\n",
            "Epoch 14/50 | Batch 1/32 | Loss 0.969 | F1 score 0.667\n",
            "Epoch 14/50 | Batch 10/32 | Loss 0.801 | F1 score 0.727\n",
            "Epoch 14/50 | Batch 20/32 | Loss 0.703 | F1 score 0.770\n",
            "Epoch 14/50 | Batch 30/32 | Loss 0.996 | F1 score 0.694\n",
            "Epoch 14/50 | Batch 32/32 | Loss 0.742 | F1 score 0.769\n",
            "Epoch 15/50 | Batch 1/32 | Loss 0.944 | F1 score 0.673\n",
            "Epoch 15/50 | Batch 10/32 | Loss 0.780 | F1 score 0.729\n",
            "Epoch 15/50 | Batch 20/32 | Loss 0.688 | F1 score 0.777\n",
            "Epoch 15/50 | Batch 30/32 | Loss 0.971 | F1 score 0.699\n",
            "Epoch 15/50 | Batch 32/32 | Loss 0.728 | F1 score 0.773\n",
            "Epoch 16/50 | Batch 1/32 | Loss 0.911 | F1 score 0.688\n",
            "Epoch 16/50 | Batch 10/32 | Loss 0.765 | F1 score 0.743\n",
            "Epoch 16/50 | Batch 20/32 | Loss 0.665 | F1 score 0.787\n",
            "Epoch 16/50 | Batch 30/32 | Loss 0.949 | F1 score 0.705\n",
            "Epoch 16/50 | Batch 32/32 | Loss 0.711 | F1 score 0.779\n",
            "Epoch 17/50 | Batch 1/32 | Loss 0.874 | F1 score 0.699\n",
            "Epoch 17/50 | Batch 10/32 | Loss 0.742 | F1 score 0.750\n",
            "Epoch 17/50 | Batch 20/32 | Loss 0.658 | F1 score 0.790\n",
            "Epoch 17/50 | Batch 30/32 | Loss 0.929 | F1 score 0.711\n",
            "Epoch 17/50 | Batch 32/32 | Loss 0.699 | F1 score 0.786\n",
            "Epoch 18/50 | Batch 1/32 | Loss 0.855 | F1 score 0.706\n",
            "Epoch 18/50 | Batch 10/32 | Loss 0.717 | F1 score 0.760\n",
            "Epoch 18/50 | Batch 20/32 | Loss 0.638 | F1 score 0.794\n",
            "Epoch 18/50 | Batch 30/32 | Loss 0.914 | F1 score 0.717\n",
            "Epoch 18/50 | Batch 32/32 | Loss 0.677 | F1 score 0.792\n",
            "Epoch 19/50 | Batch 1/32 | Loss 0.831 | F1 score 0.714\n",
            "Epoch 19/50 | Batch 10/32 | Loss 0.705 | F1 score 0.764\n",
            "Epoch 19/50 | Batch 20/32 | Loss 0.630 | F1 score 0.798\n",
            "Epoch 19/50 | Batch 30/32 | Loss 0.894 | F1 score 0.715\n",
            "Epoch 19/50 | Batch 32/32 | Loss 0.662 | F1 score 0.790\n",
            "Epoch 20/50 | Batch 1/32 | Loss 0.812 | F1 score 0.721\n",
            "Epoch 20/50 | Batch 10/32 | Loss 0.689 | F1 score 0.766\n",
            "Epoch 20/50 | Batch 20/32 | Loss 0.619 | F1 score 0.800\n",
            "Epoch 20/50 | Batch 30/32 | Loss 0.873 | F1 score 0.728\n",
            "Epoch 20/50 | Batch 32/32 | Loss 0.645 | F1 score 0.796\n",
            "Epoch 21/50 | Batch 1/32 | Loss 0.798 | F1 score 0.726\n",
            "Epoch 21/50 | Batch 10/32 | Loss 0.670 | F1 score 0.780\n",
            "Epoch 21/50 | Batch 20/32 | Loss 0.598 | F1 score 0.804\n",
            "Epoch 21/50 | Batch 30/32 | Loss 0.856 | F1 score 0.729\n",
            "Epoch 21/50 | Batch 32/32 | Loss 0.632 | F1 score 0.796\n",
            "Epoch 22/50 | Batch 1/32 | Loss 0.776 | F1 score 0.735\n",
            "Epoch 22/50 | Batch 10/32 | Loss 0.657 | F1 score 0.780\n",
            "Epoch 22/50 | Batch 20/32 | Loss 0.594 | F1 score 0.806\n",
            "Epoch 22/50 | Batch 30/32 | Loss 0.844 | F1 score 0.735\n",
            "Epoch 22/50 | Batch 32/32 | Loss 0.623 | F1 score 0.805\n",
            "Epoch 23/50 | Batch 1/32 | Loss 0.767 | F1 score 0.733\n",
            "Epoch 23/50 | Batch 10/32 | Loss 0.648 | F1 score 0.783\n",
            "Epoch 23/50 | Batch 20/32 | Loss 0.585 | F1 score 0.811\n",
            "Epoch 23/50 | Batch 30/32 | Loss 0.827 | F1 score 0.742\n",
            "Epoch 23/50 | Batch 32/32 | Loss 0.606 | F1 score 0.807\n",
            "Epoch 24/50 | Batch 1/32 | Loss 0.750 | F1 score 0.740\n",
            "Epoch 24/50 | Batch 10/32 | Loss 0.631 | F1 score 0.787\n",
            "Epoch 24/50 | Batch 20/32 | Loss 0.567 | F1 score 0.813\n",
            "Epoch 24/50 | Batch 30/32 | Loss 0.813 | F1 score 0.744\n",
            "Epoch 24/50 | Batch 32/32 | Loss 0.593 | F1 score 0.816\n",
            "Epoch 25/50 | Batch 1/32 | Loss 0.737 | F1 score 0.743\n",
            "Epoch 25/50 | Batch 10/32 | Loss 0.627 | F1 score 0.791\n",
            "Epoch 25/50 | Batch 20/32 | Loss 0.565 | F1 score 0.814\n",
            "Epoch 25/50 | Batch 30/32 | Loss 0.800 | F1 score 0.746\n",
            "Epoch 25/50 | Batch 32/32 | Loss 0.583 | F1 score 0.818\n",
            "Epoch 26/50 | Batch 1/32 | Loss 0.733 | F1 score 0.748\n",
            "Epoch 26/50 | Batch 10/32 | Loss 0.619 | F1 score 0.792\n",
            "Epoch 26/50 | Batch 20/32 | Loss 0.556 | F1 score 0.817\n",
            "Epoch 26/50 | Batch 30/32 | Loss 0.783 | F1 score 0.749\n",
            "Epoch 26/50 | Batch 32/32 | Loss 0.579 | F1 score 0.813\n",
            "Epoch 27/50 | Batch 1/32 | Loss 0.716 | F1 score 0.752\n",
            "Epoch 27/50 | Batch 10/32 | Loss 0.613 | F1 score 0.792\n",
            "Epoch 27/50 | Batch 20/32 | Loss 0.545 | F1 score 0.823\n",
            "Epoch 27/50 | Batch 30/32 | Loss 0.768 | F1 score 0.755\n",
            "Epoch 27/50 | Batch 32/32 | Loss 0.566 | F1 score 0.824\n",
            "Epoch 28/50 | Batch 1/32 | Loss 0.705 | F1 score 0.755\n",
            "Epoch 28/50 | Batch 10/32 | Loss 0.596 | F1 score 0.796\n",
            "Epoch 28/50 | Batch 20/32 | Loss 0.536 | F1 score 0.822\n",
            "Epoch 28/50 | Batch 30/32 | Loss 0.763 | F1 score 0.758\n",
            "Epoch 28/50 | Batch 32/32 | Loss 0.562 | F1 score 0.825\n",
            "Epoch 29/50 | Batch 1/32 | Loss 0.692 | F1 score 0.763\n",
            "Epoch 29/50 | Batch 10/32 | Loss 0.590 | F1 score 0.799\n",
            "Epoch 29/50 | Batch 20/32 | Loss 0.534 | F1 score 0.823\n",
            "Epoch 29/50 | Batch 30/32 | Loss 0.750 | F1 score 0.764\n",
            "Epoch 29/50 | Batch 32/32 | Loss 0.547 | F1 score 0.828\n",
            "Epoch 30/50 | Batch 1/32 | Loss 0.687 | F1 score 0.761\n",
            "Epoch 30/50 | Batch 10/32 | Loss 0.582 | F1 score 0.802\n",
            "Epoch 30/50 | Batch 20/32 | Loss 0.525 | F1 score 0.827\n",
            "Epoch 30/50 | Batch 30/32 | Loss 0.736 | F1 score 0.766\n",
            "Epoch 30/50 | Batch 32/32 | Loss 0.546 | F1 score 0.825\n",
            "Epoch 31/50 | Batch 1/32 | Loss 0.678 | F1 score 0.765\n",
            "Epoch 31/50 | Batch 10/32 | Loss 0.569 | F1 score 0.805\n",
            "Epoch 31/50 | Batch 20/32 | Loss 0.518 | F1 score 0.828\n",
            "Epoch 31/50 | Batch 30/32 | Loss 0.726 | F1 score 0.766\n",
            "Epoch 31/50 | Batch 32/32 | Loss 0.529 | F1 score 0.832\n",
            "Epoch 32/50 | Batch 1/32 | Loss 0.666 | F1 score 0.767\n",
            "Epoch 32/50 | Batch 10/32 | Loss 0.566 | F1 score 0.810\n",
            "Epoch 32/50 | Batch 20/32 | Loss 0.507 | F1 score 0.830\n",
            "Epoch 32/50 | Batch 30/32 | Loss 0.712 | F1 score 0.773\n",
            "Epoch 32/50 | Batch 32/32 | Loss 0.531 | F1 score 0.835\n",
            "Epoch 33/50 | Batch 1/32 | Loss 0.659 | F1 score 0.772\n",
            "Epoch 33/50 | Batch 10/32 | Loss 0.554 | F1 score 0.808\n",
            "Epoch 33/50 | Batch 20/32 | Loss 0.499 | F1 score 0.834\n",
            "Epoch 33/50 | Batch 30/32 | Loss 0.704 | F1 score 0.775\n",
            "Epoch 33/50 | Batch 32/32 | Loss 0.527 | F1 score 0.835\n",
            "Epoch 34/50 | Batch 1/32 | Loss 0.647 | F1 score 0.782\n",
            "Epoch 34/50 | Batch 10/32 | Loss 0.541 | F1 score 0.814\n",
            "Epoch 34/50 | Batch 20/32 | Loss 0.500 | F1 score 0.834\n",
            "Epoch 34/50 | Batch 30/32 | Loss 0.697 | F1 score 0.774\n",
            "Epoch 34/50 | Batch 32/32 | Loss 0.512 | F1 score 0.835\n",
            "Epoch 35/50 | Batch 1/32 | Loss 0.639 | F1 score 0.783\n",
            "Epoch 35/50 | Batch 10/32 | Loss 0.530 | F1 score 0.820\n",
            "Epoch 35/50 | Batch 20/32 | Loss 0.485 | F1 score 0.836\n",
            "Epoch 35/50 | Batch 30/32 | Loss 0.687 | F1 score 0.778\n",
            "Epoch 35/50 | Batch 32/32 | Loss 0.510 | F1 score 0.840\n",
            "Epoch 36/50 | Batch 1/32 | Loss 0.630 | F1 score 0.788\n",
            "Epoch 36/50 | Batch 10/32 | Loss 0.530 | F1 score 0.821\n",
            "Epoch 36/50 | Batch 20/32 | Loss 0.485 | F1 score 0.837\n",
            "Epoch 36/50 | Batch 30/32 | Loss 0.675 | F1 score 0.781\n",
            "Epoch 36/50 | Batch 32/32 | Loss 0.499 | F1 score 0.845\n",
            "Epoch 37/50 | Batch 1/32 | Loss 0.626 | F1 score 0.788\n",
            "Epoch 37/50 | Batch 10/32 | Loss 0.523 | F1 score 0.822\n",
            "Epoch 37/50 | Batch 20/32 | Loss 0.477 | F1 score 0.842\n",
            "Epoch 37/50 | Batch 30/32 | Loss 0.670 | F1 score 0.783\n",
            "Epoch 37/50 | Batch 32/32 | Loss 0.499 | F1 score 0.843\n",
            "Epoch 38/50 | Batch 1/32 | Loss 0.620 | F1 score 0.794\n",
            "Epoch 38/50 | Batch 10/32 | Loss 0.510 | F1 score 0.825\n",
            "Epoch 38/50 | Batch 20/32 | Loss 0.467 | F1 score 0.844\n",
            "Epoch 38/50 | Batch 30/32 | Loss 0.657 | F1 score 0.790\n",
            "Epoch 38/50 | Batch 32/32 | Loss 0.489 | F1 score 0.846\n",
            "Epoch 39/50 | Batch 1/32 | Loss 0.608 | F1 score 0.796\n",
            "Epoch 39/50 | Batch 10/32 | Loss 0.504 | F1 score 0.829\n",
            "Epoch 39/50 | Batch 20/32 | Loss 0.463 | F1 score 0.845\n",
            "Epoch 39/50 | Batch 30/32 | Loss 0.650 | F1 score 0.789\n",
            "Epoch 39/50 | Batch 32/32 | Loss 0.481 | F1 score 0.847\n",
            "Epoch 40/50 | Batch 1/32 | Loss 0.602 | F1 score 0.796\n",
            "Epoch 40/50 | Batch 10/32 | Loss 0.503 | F1 score 0.828\n",
            "Epoch 40/50 | Batch 20/32 | Loss 0.461 | F1 score 0.847\n",
            "Epoch 40/50 | Batch 30/32 | Loss 0.650 | F1 score 0.791\n",
            "Epoch 40/50 | Batch 32/32 | Loss 0.474 | F1 score 0.851\n",
            "Epoch 41/50 | Batch 1/32 | Loss 0.594 | F1 score 0.802\n",
            "Epoch 41/50 | Batch 10/32 | Loss 0.496 | F1 score 0.834\n",
            "Epoch 41/50 | Batch 20/32 | Loss 0.456 | F1 score 0.846\n",
            "Epoch 41/50 | Batch 30/32 | Loss 0.637 | F1 score 0.794\n",
            "Epoch 41/50 | Batch 32/32 | Loss 0.474 | F1 score 0.852\n",
            "Epoch 42/50 | Batch 1/32 | Loss 0.581 | F1 score 0.809\n",
            "Epoch 42/50 | Batch 10/32 | Loss 0.489 | F1 score 0.833\n",
            "Epoch 42/50 | Batch 20/32 | Loss 0.451 | F1 score 0.847\n",
            "Epoch 42/50 | Batch 30/32 | Loss 0.637 | F1 score 0.796\n",
            "Epoch 42/50 | Batch 32/32 | Loss 0.459 | F1 score 0.855\n",
            "Epoch 43/50 | Batch 1/32 | Loss 0.578 | F1 score 0.808\n",
            "Epoch 43/50 | Batch 10/32 | Loss 0.484 | F1 score 0.837\n",
            "Epoch 43/50 | Batch 20/32 | Loss 0.443 | F1 score 0.853\n",
            "Epoch 43/50 | Batch 30/32 | Loss 0.629 | F1 score 0.796\n",
            "Epoch 43/50 | Batch 32/32 | Loss 0.455 | F1 score 0.854\n",
            "Epoch 44/50 | Batch 1/32 | Loss 0.573 | F1 score 0.810\n",
            "Epoch 44/50 | Batch 10/32 | Loss 0.477 | F1 score 0.836\n",
            "Epoch 44/50 | Batch 20/32 | Loss 0.441 | F1 score 0.857\n",
            "Epoch 44/50 | Batch 30/32 | Loss 0.623 | F1 score 0.797\n",
            "Epoch 44/50 | Batch 32/32 | Loss 0.457 | F1 score 0.853\n",
            "Epoch 45/50 | Batch 1/32 | Loss 0.564 | F1 score 0.811\n",
            "Epoch 45/50 | Batch 10/32 | Loss 0.472 | F1 score 0.840\n",
            "Epoch 45/50 | Batch 20/32 | Loss 0.436 | F1 score 0.855\n",
            "Epoch 45/50 | Batch 30/32 | Loss 0.611 | F1 score 0.803\n",
            "Epoch 45/50 | Batch 32/32 | Loss 0.446 | F1 score 0.861\n",
            "Epoch 46/50 | Batch 1/32 | Loss 0.562 | F1 score 0.811\n",
            "Epoch 46/50 | Batch 10/32 | Loss 0.462 | F1 score 0.841\n",
            "Epoch 46/50 | Batch 20/32 | Loss 0.428 | F1 score 0.857\n",
            "Epoch 46/50 | Batch 30/32 | Loss 0.602 | F1 score 0.802\n",
            "Epoch 46/50 | Batch 32/32 | Loss 0.434 | F1 score 0.861\n",
            "Epoch 47/50 | Batch 1/32 | Loss 0.549 | F1 score 0.815\n",
            "Epoch 47/50 | Batch 10/32 | Loss 0.457 | F1 score 0.841\n",
            "Epoch 47/50 | Batch 20/32 | Loss 0.425 | F1 score 0.861\n",
            "Epoch 47/50 | Batch 30/32 | Loss 0.602 | F1 score 0.800\n",
            "Epoch 47/50 | Batch 32/32 | Loss 0.437 | F1 score 0.857\n",
            "Epoch 48/50 | Batch 1/32 | Loss 0.549 | F1 score 0.816\n",
            "Epoch 48/50 | Batch 10/32 | Loss 0.460 | F1 score 0.846\n",
            "Epoch 48/50 | Batch 20/32 | Loss 0.429 | F1 score 0.859\n",
            "Epoch 48/50 | Batch 30/32 | Loss 0.598 | F1 score 0.802\n",
            "Epoch 48/50 | Batch 32/32 | Loss 0.443 | F1 score 0.861\n",
            "Epoch 49/50 | Batch 1/32 | Loss 0.540 | F1 score 0.820\n",
            "Epoch 49/50 | Batch 10/32 | Loss 0.454 | F1 score 0.846\n",
            "Epoch 49/50 | Batch 20/32 | Loss 0.421 | F1 score 0.860\n",
            "Epoch 49/50 | Batch 30/32 | Loss 0.591 | F1 score 0.810\n",
            "Epoch 49/50 | Batch 32/32 | Loss 0.437 | F1 score 0.861\n",
            "Epoch 50/50 | Batch 1/32 | Loss 0.537 | F1 score 0.822\n",
            "Epoch 50/50 | Batch 10/32 | Loss 0.452 | F1 score 0.844\n",
            "Epoch 50/50 | Batch 20/32 | Loss 0.421 | F1 score 0.861\n",
            "Epoch 50/50 | Batch 30/32 | Loss 0.582 | F1 score 0.810\n",
            "Epoch 50/50 | Batch 32/32 | Loss 0.428 | F1 score 0.863\n",
            "model saved\n",
            "Finished... 2:19:06.460153\n"
          ],
          "name": "stdout"
        }
      ]
    },
    {
      "cell_type": "code",
      "metadata": {
        "id": "Dt056FNxxggS",
        "colab_type": "code",
        "outputId": "9af19118-bbc1-410b-bf78-12457f09960c",
        "colab": {
          "base_uri": "https://localhost:8080/",
          "height": 71
        }
      },
      "source": [
        "model.ix_to_tag = ix_to_tag\n",
        "torch.save(model, 'LSTM-model.pt')"
      ],
      "execution_count": 0,
      "outputs": [
        {
          "output_type": "stream",
          "text": [
            "/usr/local/lib/python3.6/dist-packages/torch/serialization.py:360: UserWarning: Couldn't retrieve source code for container of type Event_tagger. It won't be checked for correctness upon loading.\n",
            "  \"type \" + obj.__name__ + \". It won't be checked \"\n"
          ],
          "name": "stderr"
        }
      ]
    },
    {
      "cell_type": "code",
      "metadata": {
        "id": "Y7H0UPLTpupY",
        "colab_type": "code",
        "outputId": "a827c59f-d658-4fd6-c89b-a4104268a680",
        "colab": {
          "base_uri": "https://localhost:8080/",
          "height": 34
        }
      },
      "source": [
        "doc_id"
      ],
      "execution_count": 0,
      "outputs": [
        {
          "output_type": "execute_result",
          "data": {
            "text/plain": [
              "1"
            ]
          },
          "metadata": {
            "tags": []
          },
          "execution_count": 22
        }
      ]
    },
    {
      "cell_type": "code",
      "metadata": {
        "id": "10bbo-7apQCE",
        "colab_type": "code",
        "outputId": "be816ade-da6d-46b2-84ce-aa0f836f50e4",
        "colab": {
          "base_uri": "https://localhost:8080/",
          "height": 221
        }
      },
      "source": [
        "df_test.doc"
      ],
      "execution_count": 0,
      "outputs": [
        {
          "output_type": "execute_result",
          "data": {
            "text/plain": [
              "303705     889\n",
              "303706     889\n",
              "303707     889\n",
              "303708     889\n",
              "303709     889\n",
              "          ... \n",
              "370740    1110\n",
              "370741    1110\n",
              "370742    1110\n",
              "370743    1110\n",
              "370744    1110\n",
              "Name: doc, Length: 67040, dtype: int64"
            ]
          },
          "metadata": {
            "tags": []
          },
          "execution_count": 23
        }
      ]
    },
    {
      "cell_type": "code",
      "metadata": {
        "id": "lZyxHtubuV-r",
        "colab_type": "code",
        "colab": {}
      },
      "source": [
        "import os, shutil\n",
        "folder = 'models'\n",
        "for filename in os.listdir(folder):\n",
        "    file_path = os.path.join(folder, filename)\n",
        "    if filename != '541_model.pt':\n",
        "        try:\n",
        "            if os.path.isfile(file_path) or os.path.islink(file_path):\n",
        "                os.unlink(file_path)\n",
        "            elif os.path.isdir(file_path):\n",
        "                shutil.rmtree(file_path)\n",
        "        except Exception as e:\n",
        "            print('Failed to delete %s. Reason: %s' % (file_path, e))"
      ],
      "execution_count": 0,
      "outputs": []
    },
    {
      "cell_type": "markdown",
      "metadata": {
        "id": "7p8bvYcnXeGz",
        "colab_type": "text"
      },
      "source": [
        "# Some stuff"
      ]
    },
    {
      "cell_type": "code",
      "metadata": {
        "id": "CbYfbZjE68C5",
        "colab_type": "code",
        "outputId": "602de50d-e1a9-47c4-80a2-854144a3b12c",
        "colab": {
          "base_uri": "https://localhost:8080/",
          "height": 232
        }
      },
      "source": [
        "'''\n",
        "    creating word embeddings for each word in a sentence\n",
        "    \n",
        "    word_embeddings - dictionary {doc_id: [sentence_num - [word_num, ...], ...]}\n",
        "'''\n",
        "\n",
        "word_embeddings = {}\n",
        "for doc in index:\n",
        "    for sentence in index[doc]:\n",
        "        \n",
        "        if doc not in word_embeddings:\n",
        "            word_embeddings[doc] = []\n",
        "            \n",
        "        word_embeddings[doc].append([ft.get_word_vector(word) for word in sentence])"
      ],
      "execution_count": 0,
      "outputs": [
        {
          "output_type": "error",
          "ename": "NameError",
          "evalue": "ignored",
          "traceback": [
            "\u001b[0;31m---------------------------------------------------------------------------\u001b[0m",
            "\u001b[0;31mNameError\u001b[0m                                 Traceback (most recent call last)",
            "\u001b[0;32m<ipython-input-23-5108b5157e48>\u001b[0m in \u001b[0;36m<module>\u001b[0;34m()\u001b[0m\n\u001b[1;32m      6\u001b[0m \u001b[0;34m\u001b[0m\u001b[0m\n\u001b[1;32m      7\u001b[0m \u001b[0mword_embeddings\u001b[0m \u001b[0;34m=\u001b[0m \u001b[0;34m{\u001b[0m\u001b[0;34m}\u001b[0m\u001b[0;34m\u001b[0m\u001b[0;34m\u001b[0m\u001b[0m\n\u001b[0;32m----> 8\u001b[0;31m \u001b[0;32mfor\u001b[0m \u001b[0mdoc\u001b[0m \u001b[0;32min\u001b[0m \u001b[0mindex\u001b[0m\u001b[0;34m:\u001b[0m\u001b[0;34m\u001b[0m\u001b[0;34m\u001b[0m\u001b[0m\n\u001b[0m\u001b[1;32m      9\u001b[0m     \u001b[0;32mfor\u001b[0m \u001b[0msentence\u001b[0m \u001b[0;32min\u001b[0m \u001b[0mindex\u001b[0m\u001b[0;34m[\u001b[0m\u001b[0mdoc\u001b[0m\u001b[0;34m]\u001b[0m\u001b[0;34m:\u001b[0m\u001b[0;34m\u001b[0m\u001b[0;34m\u001b[0m\u001b[0m\n\u001b[1;32m     10\u001b[0m \u001b[0;34m\u001b[0m\u001b[0m\n",
            "\u001b[0;31mNameError\u001b[0m: name 'index' is not defined"
          ]
        }
      ]
    }
  ]
}