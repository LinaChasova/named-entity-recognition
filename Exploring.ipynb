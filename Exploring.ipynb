{
 "cells": [
  {
   "cell_type": "markdown",
   "metadata": {},
   "source": [
    "# Retrieve all file names\n",
    "\n",
    "Firstly, I need to get all corpus in one place. As it all inside different folders, we go through directories to retrieve all documents' names."
   ]
  },
  {
   "cell_type": "code",
   "execution_count": 2,
   "metadata": {
    "ExecuteTime": {
     "end_time": "2020-03-18T18:19:01.108522Z",
     "start_time": "2020-03-18T18:19:01.100428Z"
    }
   },
   "outputs": [],
   "source": [
    "import os\n",
    "\n",
    "def read_files_path(path:str, extension: str):\n",
    "    files_path = []\n",
    "\n",
    "    for r, d, f in os.walk(path):\n",
    "        for file in f:\n",
    "            if extension in file:\n",
    "                files_path.append(os.path.join(r, file))\n",
    "                \n",
    "    return files_path"
   ]
  },
  {
   "cell_type": "code",
   "execution_count": 4,
   "metadata": {
    "ExecuteTime": {
     "end_time": "2020-03-18T18:22:07.181261Z",
     "start_time": "2020-03-18T18:22:07.160491Z"
    }
   },
   "outputs": [],
   "source": [
    "files_path = read_files_path(\"entval-events/\", '.txt')\n",
    "files_path_ann = read_files_path(\"entval-events/\", '.ann')\n",
    "files_path = sorted(files_path)\n",
    "files_path_ann = sorted(files_path_ann)"
   ]
  },
  {
   "cell_type": "markdown",
   "metadata": {},
   "source": [
    "# Preprocessing of document corpus\n",
    "\n",
    "get all documents and its id in dictionary"
   ]
  },
  {
   "cell_type": "code",
   "execution_count": 1,
   "metadata": {
    "ExecuteTime": {
     "end_time": "2020-03-18T18:18:28.791753Z",
     "start_time": "2020-03-18T18:18:28.784783Z"
    }
   },
   "outputs": [],
   "source": [
    "'''\n",
    "    documents - dictionary {doc_id: text}\n",
    "    map_ids   - dictionary {doc_id: path}\n",
    "'''\n",
    "\n",
    "def read_documents(files_path):\n",
    "\n",
    "    documents = {}\n",
    "    map_ids = {}\n",
    "\n",
    "    doc_id = 0\n",
    "    for file_path in files_path:\n",
    "        with open(file_path, 'r') as fh:\n",
    "            map_ids[doc_id] = file_path\n",
    "            documents[doc_id] = fh.read()\n",
    "        doc_id += 1\n",
    "        \n",
    "    return documents, map_ids"
   ]
  },
  {
   "cell_type": "code",
   "execution_count": 5,
   "metadata": {
    "ExecuteTime": {
     "end_time": "2020-03-18T18:23:12.347201Z",
     "start_time": "2020-03-18T18:23:10.998596Z"
    }
   },
   "outputs": [],
   "source": [
    "documents, map_ids = read_documents(files_path)\n",
    "documents_ann, map_ids_ann = read_documents(files_path_ann)"
   ]
  },
  {
   "cell_type": "code",
   "execution_count": 6,
   "metadata": {
    "ExecuteTime": {
     "end_time": "2020-03-18T18:24:55.123327Z",
     "start_time": "2020-03-18T18:24:55.106742Z"
    }
   },
   "outputs": [
    {
     "data": {
      "text/plain": [
       "1111"
      ]
     },
     "execution_count": 6,
     "metadata": {},
     "output_type": "execute_result"
    }
   ],
   "source": [
    "len(documents)"
   ]
  },
  {
   "cell_type": "markdown",
   "metadata": {},
   "source": [
    "# Explore data\n",
    "\n",
    "## Text information"
   ]
  },
  {
   "cell_type": "code",
   "execution_count": 14,
   "metadata": {
    "ExecuteTime": {
     "end_time": "2020-03-18T18:30:28.874197Z",
     "start_time": "2020-03-18T18:30:28.865562Z"
    }
   },
   "outputs": [],
   "source": [
    "# combine all text together\n",
    "full_text = ''\n",
    "\n",
    "for doc in documents.values():\n",
    "    full_text += doc"
   ]
  },
  {
   "cell_type": "code",
   "execution_count": 29,
   "metadata": {
    "ExecuteTime": {
     "end_time": "2020-03-18T19:06:22.493471Z",
     "start_time": "2020-03-18T19:05:43.214494Z"
    }
   },
   "outputs": [
    {
     "name": "stderr",
     "output_type": "stream",
     "text": [
      "[nltk_data] Downloading package punkt to /Users/innolina/nltk_data...\n",
      "[nltk_data]   Unzipping tokenizers/punkt.zip.\n"
     ]
    }
   ],
   "source": [
    "import nltk\n",
    "nltk.download('punkt')\n",
    "\n",
    "# get unique words\n",
    "all_words = nltk.word_tokenize(full_text)\n",
    "words = set(all_words)"
   ]
  },
  {
   "cell_type": "markdown",
   "metadata": {},
   "source": [
    "number of unique words, which were used in the documents: 74589"
   ]
  },
  {
   "cell_type": "code",
   "execution_count": 13,
   "metadata": {
    "ExecuteTime": {
     "end_time": "2020-03-18T18:28:09.434579Z",
     "start_time": "2020-03-18T18:28:09.428035Z"
    }
   },
   "outputs": [
    {
     "data": {
      "text/plain": [
       "74589"
      ]
     },
     "execution_count": 13,
     "metadata": {},
     "output_type": "execute_result"
    }
   ],
   "source": [
    "len(words)"
   ]
  },
  {
   "cell_type": "code",
   "execution_count": 33,
   "metadata": {
    "ExecuteTime": {
     "end_time": "2020-03-18T19:10:09.810687Z",
     "start_time": "2020-03-18T19:10:09.805738Z"
    }
   },
   "outputs": [
    {
     "data": {
      "text/plain": [
       "51823"
      ]
     },
     "execution_count": 33,
     "metadata": {},
     "output_type": "execute_result"
    }
   ],
   "source": [
    "len(words)"
   ]
  },
  {
   "cell_type": "markdown",
   "metadata": {},
   "source": [
    "## Target information"
   ]
  },
  {
   "cell_type": "code",
   "execution_count": 16,
   "metadata": {
    "ExecuteTime": {
     "end_time": "2020-03-18T18:34:37.896200Z",
     "start_time": "2020-03-18T18:34:37.811090Z"
    }
   },
   "outputs": [],
   "source": [
    "types = []\n",
    "\n",
    "for doc in documents_ann:\n",
    "    entities = documents_ann[doc].split('\\n')\n",
    "    for entity in entities:\n",
    "        ent = entity.split('\\t')\n",
    "\n",
    "        if ent == [''] or 'A' in ent[0] or '#' in ent[0]:\n",
    "            continue\n",
    "\n",
    "        # change entity token to an event token\n",
    "        if 'E' in ent[0]:\n",
    "            continue\n",
    "\n",
    "        info = ent[1].split(' ')\n",
    "        # parse type\n",
    "        types.append(info[0])"
   ]
  },
  {
   "cell_type": "markdown",
   "metadata": {},
   "source": [
    "### Getting number of unique types"
   ]
  },
  {
   "cell_type": "code",
   "execution_count": 20,
   "metadata": {
    "ExecuteTime": {
     "end_time": "2020-03-18T18:37:12.625809Z",
     "start_time": "2020-03-18T18:37:12.618133Z"
    }
   },
   "outputs": [
    {
     "name": "stdout",
     "output_type": "stream",
     "text": [
      "Number of unique types: 29\n",
      "{'End-Position', 'URL', 'Time', 'Phone-Number', 'Facility', 'Person', 'Indict-Sue', 'GPE-Organization', 'GPE-GPE', 'Die', 'Declare-Bankruptcy', 'GPE-Person', 'E-Mail', 'Trial-Hearing', 'Job', 'Transfer-Ownership', 'Location', 'Sentence', 'Transfer-Money', 'Crime', 'Merge-Org', 'Money', 'Injure', 'End-Org', 'Start-Position', 'Fine', 'GPE-Location', 'Organization', 'Start-Org'}\n"
     ]
    }
   ],
   "source": [
    "print('Number of unique types:', end=' ')\n",
    "un_types = set(types)\n",
    "print(len(un_types))\n",
    "\n",
    "print(un_types)"
   ]
  },
  {
   "cell_type": "markdown",
   "metadata": {},
   "source": [
    "### Amount of each type"
   ]
  },
  {
   "cell_type": "code",
   "execution_count": 21,
   "metadata": {
    "ExecuteTime": {
     "end_time": "2020-03-18T18:40:29.641572Z",
     "start_time": "2020-03-18T18:40:29.632672Z"
    }
   },
   "outputs": [],
   "source": [
    "from collections import Counter\n",
    "\n",
    "types_dict = Counter(types)"
   ]
  },
  {
   "cell_type": "code",
   "execution_count": 27,
   "metadata": {
    "ExecuteTime": {
     "end_time": "2020-03-18T18:56:21.945317Z",
     "start_time": "2020-03-18T18:56:21.929838Z"
    }
   },
   "outputs": [
    {
     "data": {
      "text/plain": [
       "{'Organization': 12230,\n",
       " 'GPE-Location': 3355,\n",
       " 'Die': 482,\n",
       " 'Person': 20110,\n",
       " 'Time': 5723,\n",
       " 'Location': 1086,\n",
       " 'GPE-Person': 186,\n",
       " 'GPE-GPE': 4278,\n",
       " 'GPE-Organization': 790,\n",
       " 'Money': 873,\n",
       " 'Transfer-Money': 425,\n",
       " 'Facility': 2305,\n",
       " 'Start-Org': 80,\n",
       " 'Sentence': 227,\n",
       " 'Indict-Sue': 338,\n",
       " 'End-Org': 43,\n",
       " 'End-Position': 123,\n",
       " 'Start-Position': 172,\n",
       " 'Trial-Hearing': 109,\n",
       " 'Merge-Org': 8,\n",
       " 'Transfer-Ownership': 97,\n",
       " 'Injure': 239,\n",
       " 'Fine': 56,\n",
       " 'Phone-Number': 40,\n",
       " 'URL': 71,\n",
       " 'Job': 114,\n",
       " 'Declare-Bankruptcy': 9,\n",
       " 'E-Mail': 8,\n",
       " 'Crime': 45}"
      ]
     },
     "execution_count": 27,
     "metadata": {},
     "output_type": "execute_result"
    }
   ],
   "source": [
    "dict(types_dict)"
   ]
  },
  {
   "cell_type": "code",
   "execution_count": null,
   "metadata": {},
   "outputs": [],
   "source": []
  }
 ],
 "metadata": {
  "kernelspec": {
   "display_name": "Python 3",
   "language": "python",
   "name": "python3"
  },
  "language_info": {
   "codemirror_mode": {
    "name": "ipython",
    "version": 3
   },
   "file_extension": ".py",
   "mimetype": "text/x-python",
   "name": "python",
   "nbconvert_exporter": "python",
   "pygments_lexer": "ipython3",
   "version": "3.7.4"
  },
  "latex_envs": {
   "LaTeX_envs_menu_present": true,
   "autoclose": false,
   "autocomplete": true,
   "bibliofile": "biblio.bib",
   "cite_by": "apalike",
   "current_citInitial": 1,
   "eqLabelWithNumbers": true,
   "eqNumInitial": 1,
   "hotkeys": {
    "equation": "Ctrl-E",
    "itemize": "Ctrl-I"
   },
   "labels_anchors": false,
   "latex_user_defs": false,
   "report_style_numbering": false,
   "user_envs_cfg": false
  },
  "toc": {
   "base_numbering": 1,
   "nav_menu": {},
   "number_sections": true,
   "sideBar": true,
   "skip_h1_title": false,
   "title_cell": "Table of Contents",
   "title_sidebar": "Contents",
   "toc_cell": false,
   "toc_position": {},
   "toc_section_display": true,
   "toc_window_display": false
  },
  "varInspector": {
   "cols": {
    "lenName": 16,
    "lenType": 16,
    "lenVar": 40
   },
   "kernels_config": {
    "python": {
     "delete_cmd_postfix": "",
     "delete_cmd_prefix": "del ",
     "library": "var_list.py",
     "varRefreshCmd": "print(var_dic_list())"
    },
    "r": {
     "delete_cmd_postfix": ") ",
     "delete_cmd_prefix": "rm(",
     "library": "var_list.r",
     "varRefreshCmd": "cat(var_dic_list()) "
    }
   },
   "types_to_exclude": [
    "module",
    "function",
    "builtin_function_or_method",
    "instance",
    "_Feature"
   ],
   "window_display": false
  }
 },
 "nbformat": 4,
 "nbformat_minor": 2
}
